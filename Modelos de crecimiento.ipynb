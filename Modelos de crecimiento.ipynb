{
 "cells": [
  {
   "cell_type": "markdown",
   "metadata": {},
   "source": [
    "# Modelos de crecimiento"
   ]
  },
  {
   "cell_type": "markdown",
   "metadata": {},
   "source": [
    "La modelización matemática nos ayuda a representar y comprender la realidad. La realidad es muy compleja, por lo que en estos modelos se debe hacer un proceso de simplificación lo cual no implica que puedan ser bastante precisos. En este notebook expondremos dos modelos matemáticos clásicos de crecimiento: el modelo de Malthus y el modelo de Verlhust (ecuación logística). Se considera que el modelo de Verlhust es una versión mejorada del modelo de Malthus, y tiene diversas aplicaciones en crecimiento de poblaciones, crecimiento de tumores, en economía,... y en concreto, lo usaremos en nuestro proyecto para modelar el crecimiento de bacterias."
   ]
  },
  {
   "cell_type": "markdown",
   "metadata": {},
   "source": [
    "## Modelo de Malthus"
   ]
  },
  {
   "cell_type": "markdown",
   "metadata": {},
   "source": [
    "Este modelo fue propuesto por Malthus en 1798 por el economista y demógrafo Thomas Malthus para el crecimiento de poblaciones.\n",
    "\n",
    "Sea $N(t)$ la densidad de población en el instante de tiempo $t$. Haremos un modelo continuo, esto es, que lo modelizaremos con una ecuación diferencial. Tendremos una ecuación que involucrará a $N(t)$ con su derivada $N'(t)$. Nótese, que la derivada es la velocidad con la que crece la población (la derivada tiene intrínseco este concepto de tasa de cambio o velocidad).\n",
    "\n",
    "\n",
    "En este modelo consideramos que las muertes y los nacimientos son proporcionales a la propia población. Es decir, consideraremos que las que la tasa de nacimiento es $aN(t)$ y la tasa de muerte es $bN(t)$ con $a$ y $b$ constantes positivas. La velocidad de crecimiento de la población $N'(t)$ será por tanto la tasa de nacimiento $aN(t)$ menos la tasa de muerte $bN(t)$.\n",
    "Obteniendo la ecuación de este modelo:\n",
    "$$N'(t)=aN(t)-bN(t)=kN(t), \\quad k\\in\\mathbb{R}$$\n",
    "Esta ecuación lo que implica es que si la constante $k$ es positiva entonces la población crecerá sin límite alguno mientras que si es negativa irá decreciendo cada vez más hasta llegar a ser prácticamente nula. Este crecimiento será de hecho a una velocidad exponencial y, esto es por la presunción de que la velocidad de crecimiento es proporcional a la población.\n",
    "\n",
    "Esta ecuación es muy sencilla de resolver, es una ecuación diferencial ordinaria lineal la cual tiene existencia de solución. Su solución explícita es \n",
    "$N(t)=Ce^{kt}$ con $C\\in \\mathbb{R}$ una constante cualquiera (tiene infinitas soluciones). Para que el problema esté bien planteado con existencia y unicidad de solución debemos imponer una condición inicial, especificar el valor de la densidad de la población en un instante $t_{0}$ concreto, $N(t_{0})=N_{0}\\ge 0$ y la solución sería  $N(t)=N_{0}e^{k(t-t_{0})}$.\n",
    "\n",
    "La limitación de este modelo es suponer que las poblaciones crecen de forma exponencial ilimitadamente, se ha comprobado que para intervalos de tiempos cortos nos da una estimación de la realidad. Se ha usado para modelos de poblaciones de bacterias, poblaciones de pequeños mamíferos e incluso para población humana.\n",
    "\n"
   ]
  },
  {
   "cell_type": "markdown",
   "metadata": {},
   "source": [
    "### Laboratorio: Experimenta con el modelo de Malthus"
   ]
  },
  {
   "cell_type": "markdown",
   "metadata": {},
   "source": [
    "Vamos a proponer un código para visualizar cual sería el comportamiento de una población según sus constantes $k, N_{0}, t_{0}$. Podremos ajustar estas constantes y ver que soluciones diferentes obtenemos"
   ]
  },
  {
   "cell_type": "code",
   "execution_count": 33,
   "metadata": {
    "collapsed": false
   },
   "outputs": [],
   "source": [
    "from numpy import *\n",
    "import pylab\n",
    " \n",
    "def Malthus(t0,N0,k):\n",
    "    x = linspace(t0,t0+20,100) # 100 puntos linealmente espaciados entre t0 y t0+20\n",
    "    y = N0*exp(k*(x-t0))# calcula los valores para cada punto según la ecuación de malthus\n",
    "    pylab.plot(x,y)\n",
    "    pylab.show()"
   ]
  },
  {
   "cell_type": "markdown",
   "metadata": {},
   "source": [
    "Usaremos esta función Malthus para hacer diversas gráficas de población. Proponemos que altereis los valores de densidad inicial de población, el instante incial y la tasa de crecimiento para que experimenteis como va cambiando el modelo según lo que hemos propuesto en la parte teórica.\n",
    "\n",
    "**Sugerencias**: Prueba con valores positivos y negativos de $k$, ¿Qué ocurre cuando agrandamos el $k$? ¿Qué pasa si N0 es 0? ¿Qué papel juega el instante inicial en el modelo?"
   ]
  },
  {
   "cell_type": "code",
   "execution_count": 39,
   "metadata": {
    "collapsed": false
   },
   "outputs": [
    {
     "data": {
      "image/png": "[encoded data removed]",
      "text/plain": [
       "<matplotlib.figure.Figure at 0x789c2b0>"
      ]
     },
     "metadata": {},
     "output_type": "display_data"
    }
   ],
   "source": [
    "N0=80 #Densidad de población en el instante t0\n",
    "t0=5 #Instante inicial\n",
    "k=-0.1 #Tasa de crecimiento de la población\n",
    "Malthus(t0,N0,k)"
   ]
  },
  {
   "cell_type": "markdown",
   "metadata": {},
   "source": [
    "## Modelo de Verlhust (o ecuación logística)"
   ]
  },
  {
   "cell_type": "code",
   "execution_count": 22,
   "metadata": {
    "collapsed": false
   },
   "outputs": [
    {
     "data": {
      "text/plain": [
       "2.7182818284590451"
      ]
     },
     "execution_count": 22,
     "metadata": {},
     "output_type": "execute_result"
    }
   ],
   "source": [
    "exp(1)"
   ]
  },
  {
   "cell_type": "code",
   "execution_count": null,
   "metadata": {
    "collapsed": true
   },
   "outputs": [],
   "source": []
  }
 ],
 "metadata": {
  "kernelspec": {
   "display_name": "Python 2",
   "language": "python",
   "name": "python2"
  },
  "language_info": {
   "codemirror_mode": {
    "name": "ipython",
    "version": 2
   },
   "file_extension": ".py",
   "mimetype": "text/x-python",
   "name": "python",
   "nbconvert_exporter": "python",
   "pygments_lexer": "ipython2",
   "version": "2.7.13"
  }
 },
 "nbformat": 4,
 "nbformat_minor": 0
}
